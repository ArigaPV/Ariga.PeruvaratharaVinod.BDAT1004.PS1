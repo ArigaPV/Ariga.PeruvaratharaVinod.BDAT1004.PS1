{
 "cells": [
  {
   "cell_type": "markdown",
   "id": "219fc2c0",
   "metadata": {},
   "source": [
    "What data type is each of the following?\n",
    "5"
   ]
  },
  {
   "cell_type": "code",
   "execution_count": 3,
   "id": "a4c708ca",
   "metadata": {},
   "outputs": [
    {
     "name": "stdout",
     "output_type": "stream",
     "text": [
      "System.Int32\r\n"
     ]
    }
   ],
   "source": [
    "var number =5;\n",
    "Console.WriteLine(number.GetType());\n"
   ]
  },
  {
   "cell_type": "markdown",
   "id": "6734685e",
   "metadata": {},
   "source": [
    "What data type is each of the following?\n",
    "5.0"
   ]
  },
  {
   "cell_type": "code",
   "execution_count": 5,
   "id": "d2f411a6",
   "metadata": {},
   "outputs": [
    {
     "name": "stdout",
     "output_type": "stream",
     "text": [
      "System.Double\r\n"
     ]
    }
   ],
   "source": [
    "var number =5.0;\n",
    "Console.WriteLine(number.GetType());"
   ]
  },
  {
   "cell_type": "markdown",
   "id": "2bf644bf",
   "metadata": {},
   "source": [
    "What data type is each of the following?\n",
    "5 > 0"
   ]
  },
  {
   "cell_type": "code",
   "execution_count": 6,
   "id": "16a92182",
   "metadata": {},
   "outputs": [
    {
     "name": "stdout",
     "output_type": "stream",
     "text": [
      "System.Boolean\r\n"
     ]
    }
   ],
   "source": [
    "var number =5 > 0;\n",
    "Console.WriteLine(number.GetType());"
   ]
  },
  {
   "cell_type": "markdown",
   "id": "222b36d8",
   "metadata": {},
   "source": [
    "What data type is each of the following?\n",
    "'5'"
   ]
  },
  {
   "cell_type": "code",
   "execution_count": 7,
   "id": "76ae71b8",
   "metadata": {},
   "outputs": [
    {
     "name": "stdout",
     "output_type": "stream",
     "text": [
      "System.Char\r\n"
     ]
    }
   ],
   "source": [
    "var number ='5';\n",
    "Console.WriteLine(number.GetType());"
   ]
  },
  {
   "cell_type": "markdown",
   "id": "bce09f91",
   "metadata": {},
   "source": [
    "What data type is each of the following?\n",
    "5 * 2"
   ]
  },
  {
   "cell_type": "code",
   "execution_count": 8,
   "id": "7e2c5478",
   "metadata": {},
   "outputs": [
    {
     "name": "stdout",
     "output_type": "stream",
     "text": [
      "System.Int32\r\n"
     ]
    }
   ],
   "source": [
    "var number =5 * 2;\n",
    "Console.WriteLine(number.GetType());"
   ]
  },
  {
   "cell_type": "markdown",
   "id": "57ef463b",
   "metadata": {},
   "source": [
    "What data type is each of the following?\n",
    "'5' * 2"
   ]
  },
  {
   "cell_type": "code",
   "execution_count": 9,
   "id": "70a658a9",
   "metadata": {},
   "outputs": [
    {
     "name": "stdout",
     "output_type": "stream",
     "text": [
      "System.Int32\r\n"
     ]
    }
   ],
   "source": [
    "var number ='5' * 2;\n",
    "Console.WriteLine(number.GetType());"
   ]
  },
  {
   "cell_type": "markdown",
   "id": "1e3f12cf",
   "metadata": {},
   "source": [
    "What data type is each of the following?\n",
    "'5' + '2'"
   ]
  },
  {
   "cell_type": "code",
   "execution_count": 10,
   "id": "fb5d2070",
   "metadata": {},
   "outputs": [
    {
     "name": "stdout",
     "output_type": "stream",
     "text": [
      "System.Int32\r\n"
     ]
    }
   ],
   "source": [
    "var number ='5' + '2';\n",
    "Console.WriteLine(number.GetType());"
   ]
  },
  {
   "cell_type": "markdown",
   "id": "585dbdcd",
   "metadata": {},
   "source": [
    "What data type is each of the following?\n",
    "5/2"
   ]
  },
  {
   "cell_type": "code",
   "execution_count": 11,
   "id": "056d9fdc",
   "metadata": {},
   "outputs": [
    {
     "name": "stdout",
     "output_type": "stream",
     "text": [
      "System.Int32\r\n"
     ]
    }
   ],
   "source": [
    "var number =5 / 2;\n",
    "Console.WriteLine(number.GetType());"
   ]
  },
  {
   "cell_type": "markdown",
   "id": "f8150a2a",
   "metadata": {},
   "source": [
    "What data type is each of the following?\n",
    "5 % 2"
   ]
  },
  {
   "cell_type": "code",
   "execution_count": 12,
   "id": "45c9c6f9",
   "metadata": {},
   "outputs": [
    {
     "name": "stdout",
     "output_type": "stream",
     "text": [
      "System.Int32\r\n"
     ]
    }
   ],
   "source": [
    "var number =5 % 2;\n",
    "Console.WriteLine(number.GetType());"
   ]
  },
  {
   "cell_type": "markdown",
   "id": "78c086a5",
   "metadata": {},
   "source": [
    "What data type is each of the following?\n",
    "{5,2,1}"
   ]
  },
  {
   "cell_type": "code",
   "execution_count": 2,
   "id": "7c4c467a",
   "metadata": {},
   "outputs": [
    {
     "name": "stdout",
     "output_type": "stream",
     "text": [
      "System.Int32[]\r\n"
     ]
    }
   ],
   "source": [
    "int[] number = {5, 2, 1};\n",
    "Console.WriteLine(number.GetType());"
   ]
  },
  {
   "cell_type": "markdown",
   "id": "57408105",
   "metadata": {},
   "source": [
    "What data type is each of the following?\n",
    "5==3"
   ]
  },
  {
   "cell_type": "code",
   "execution_count": 14,
   "id": "6fb1bfdf",
   "metadata": {},
   "outputs": [
    {
     "name": "stdout",
     "output_type": "stream",
     "text": [
      "System.Boolean\r\n"
     ]
    }
   ],
   "source": [
    "var number =5 ==3;\n",
    "Console.WriteLine(number.GetType());"
   ]
  },
  {
   "cell_type": "markdown",
   "id": "f6a3fb20",
   "metadata": {},
   "source": [
    "What data type is each of the following?\n",
    "pi"
   ]
  },
  {
   "cell_type": "code",
   "execution_count": 18,
   "id": "c6e66ac7",
   "metadata": {},
   "outputs": [
    {
     "name": "stdout",
     "output_type": "stream",
     "text": [
      "System.Double\r\n"
     ]
    }
   ],
   "source": [
    "\n",
    "Console.WriteLine(Math.PI.GetType());"
   ]
  },
  {
   "cell_type": "markdown",
   "id": "63816063",
   "metadata": {},
   "source": [
    "Write (and evaluate) C# expressions that answer these questions:\n",
    "a. How many letters are there in 'Supercalifragilisticexpialidocious'?"
   ]
  },
  {
   "cell_type": "code",
   "execution_count": 20,
   "id": "95988ca4",
   "metadata": {},
   "outputs": [
    {
     "name": "stdout",
     "output_type": "stream",
     "text": [
      "34\r\n"
     ]
    }
   ],
   "source": [
    "var word= \"Supercalifragilisticexpialidocious\";\n",
    "\n",
    "Console.WriteLine(word.Length);\n"
   ]
  },
  {
   "cell_type": "markdown",
   "id": "93d5203d",
   "metadata": {},
   "source": [
    "Write (and evaluate) C# expressions that answer these questions:\n",
    "b. Does 'Supercalifragilisticexpialidocious' contain 'ice' as a substring? "
   ]
  },
  {
   "cell_type": "code",
   "execution_count": 21,
   "id": "96cd752e",
   "metadata": {},
   "outputs": [
    {
     "name": "stdout",
     "output_type": "stream",
     "text": [
      "True\r\n"
     ]
    }
   ],
   "source": [
    "var word= \"Supercalifragilisticexpialidocious\";\n",
    "Console.WriteLine(word.Contains(\"ice\"));\n"
   ]
  },
  {
   "cell_type": "markdown",
   "id": "d69c9cea",
   "metadata": {},
   "source": [
    "Write (and evaluate) C# expressions that answer these questions:\n",
    "c. Which of the following words is the longest: \n",
    "Supercalifragilisticexpialidocious, Honorificabilitudinitatibus, or \n",
    "Bababadalgharaghtakamminarronnkonn? "
   ]
  },
  {
   "cell_type": "code",
   "execution_count": 31,
   "id": "68953b12",
   "metadata": {},
   "outputs": [
    {
     "name": "stdout",
     "output_type": "stream",
     "text": [
      "The Longest Word = Supercalifragilisticexpialidocious and Bababadalgharaghtakamminarronnkonn\r\n"
     ]
    }
   ],
   "source": [
    "var word= \"Supercalifragilisticexpialidocious\";\n",
    "var word1= \"Honorificabilitudinitatibus\";\n",
    "var word2= \"Bababadalgharaghtakamminarronnkonn\";\n",
    "int word_Length= word.Length;\n",
    "int word1_Length= word1.Length;\n",
    "int word2_Length= word2.Length;\n",
    "var longword = \"\";\n",
    "var longword2 =\"\";\n",
    "if(word_Length >= word1_Length && word_Length >= word2_Length )\n",
    "{\n",
    "longword=word;\n",
    "}\n",
    "else if (word1_Length > word2_Length && word1_Length > word_Length)\n",
    "{\n",
    " longword=word1;\n",
    "}\n",
    "else if (word2_Length > word1_Length && word2_Length> word_Length)\n",
    "{\n",
    "longword=word2;\n",
    "}\n",
    "if(word2_Length == longword.Length)\n",
    "{\n",
    "longword2= word2;\n",
    "}\n",
    "\n",
    "if(longword2 != \"\")\n",
    "{\n",
    "Console.WriteLine(\"The Longest Word = \" + longword+\" and \"+ longword2);\n",
    "}\n",
    "\n",
    "\n",
    "\n",
    "\n",
    "\n",
    "\n",
    "\n"
   ]
  },
  {
   "cell_type": "markdown",
   "id": "da8519d5",
   "metadata": {},
   "source": [
    "Write (and evaluate) C# expressions that answer these questions:\n",
    "d. Which composer comes first in the dictionary: 'Berlioz', 'Borodin', 'Brian', \n",
    "'Bartok', 'Bellini', 'Buxtehude', 'Bernstein'. Which one comes last?"
   ]
  },
  {
   "cell_type": "code",
   "execution_count": 34,
   "id": "a0ee37e9",
   "metadata": {},
   "outputs": [
    {
     "name": "stdout",
     "output_type": "stream",
     "text": [
      "First composer : Bartok\n",
      "Last composer : Buxtehude\n"
     ]
    }
   ],
   "source": [
    "string[] composer = { \"Berlioz\", \"Borodin\", \"Brian\", \"Bartok\", \"Bellini\", \"Buxtehude\", \"Bernstein\" };\n",
    "\n",
    "        Array.Sort(composer);\n",
    "        string firstComposer = composer[0];\n",
    "\n",
    "        string lastComposer = composer[composer.Length - 1];\n",
    "\n",
    "        Console.WriteLine(\"First composer : \" + firstComposer);\n",
    "        Console.WriteLine(\"Last composer : \" + lastComposer);"
   ]
  },
  {
   "cell_type": "markdown",
   "id": "b662ec98",
   "metadata": {},
   "source": [
    "Question 3 C#\n",
    "Implement function triangleArea(a,b,c) that takes as input the lengths of the 3\n",
    "sides of a triangle and returns the area of the triangle. By Heron's formula, the area \n",
    "of a triangle with side lengths a, b, and c is\n",
    "s(s - a)(s -b)(s -c)\n",
    ", where \n",
    "s = (a+b+c)/2. \n",
    ">>> triangleArea(2,2,2)\n",
    "1.7320508075688772\n"
   ]
  },
  {
   "cell_type": "code",
   "execution_count": 38,
   "id": "50035148",
   "metadata": {},
   "outputs": [
    {
     "name": "stdout",
     "output_type": "stream",
     "text": [
      "Area of Triangle: 1.7320508075688772\r\n"
     ]
    }
   ],
   "source": [
    "public double trianglearea(double a, double b, double c)\n",
    "{\n",
    "double result=0;\n",
    "double s= ((a+b+c)/2);\n",
    "result = Math.Sqrt(s*(s-a)*(s-b)*(s-c));\n",
    "return result;\n",
    "}\n",
    "trianglearea(2,2,2);\n",
    "Console.WriteLine(\"Area of Triangle: \" +trianglearea(2,2,2));"
   ]
  },
  {
   "cell_type": "markdown",
   "id": "b98170a8",
   "metadata": {},
   "source": [
    "Question 4 C#\n",
    "Write a program in C# Sharp to separate odd and even integers in separate arrays. \n",
    "Go to the editor\n",
    "Test Data :\n",
    "Input the number of elements to be stored in the array :5\n",
    "Input 5 elements in the array :\n",
    "element - 0 : 25\n",
    "element - 1 : 47\n",
    "element - 2 : 42\n",
    "element - 3 : 56\n",
    "element - 4 : 32\n",
    "Expected Output:\n",
    "The Even elements are:\n",
    "42 56 32\n",
    "The Odd elements are :\n",
    "25 47"
   ]
  },
  {
   "cell_type": "code",
   "execution_count": 57,
   "id": "3dd38a88",
   "metadata": {},
   "outputs": [
    {
     "name": "stdout",
     "output_type": "stream",
     "text": [
      "\n",
      "Even numbers:\n",
      "42\n",
      "56\n",
      "32\n",
      "0\n",
      "0\n",
      "\n",
      "Odd numbers:\n",
      "25\n",
      "47\n",
      "0\n",
      "0\n",
      "0\n"
     ]
    }
   ],
   "source": [
    "int[] number = new int[] {25,47,42,56,32};\n",
    "int[] evennumber = new int[5];\n",
    "int[] oddnumber = new int[5];\n",
    "int j=0,k=0;\n",
    "for(int i=0; i<number.Length; i++)\n",
    "{if (number[i] % 2 == 0)\n",
    "{\n",
    "evennumber[j]=number[i];\n",
    "j++;\n",
    "}\n",
    "else\n",
    "{\n",
    "oddnumber[k]=number[i];\n",
    "k++;\n",
    "}\n",
    "}\n",
    "Console.WriteLine(\"\\nEven numbers:\");\n",
    "for (int l = 0; l < evennumber.Length; l++)\n",
    "{\n",
    "Console.WriteLine(evennumber[l]);\n",
    "}\n",
    "\n",
    "Console.WriteLine(\"\\nOdd numbers:\");\n",
    " for (int m = 0; m < oddnumber.Length; m++)\n",
    "{\n",
    " Console.WriteLine(oddnumber[m]);\n",
    "  }"
   ]
  },
  {
   "cell_type": "markdown",
   "id": "bb56de7c",
   "metadata": {},
   "source": [
    "Question 5 C#\n",
    "a. Write a function inside(x,y,x1,y1,x2,y2) that returns True or False \n",
    "depending on whether the point (x,y) lies in the rectangle with lower left \n",
    "corner (x1,y1) and upper right corner (x2,y2).\n",
    ">>> inside(1,1,0,0,2,3)\n",
    "True\n",
    ">>> inside(-1,-1,0,0,2,3)\n",
    "False"
   ]
  },
  {
   "cell_type": "code",
   "execution_count": 63,
   "id": "957badb6",
   "metadata": {},
   "outputs": [
    {
     "name": "stdout",
     "output_type": "stream",
     "text": [
      "True\n",
      "False\n"
     ]
    }
   ],
   "source": [
    "public bool inside(int x, int y, int x1, int y1, int x2, int y2)\n",
    "{\n",
    "if (x >= x1 && x <= x2 && y >= y1 && y <= y2)\n",
    "{\n",
    " return true;\n",
    "}\n",
    "else\n",
    "{\n",
    "return false;\n",
    "}\n",
    "}\n",
    "Console.WriteLine(inside(1,1,0,0,2,3));\n",
    "Console.WriteLine(inside(-1,-1,0,0,2,3));\n",
    "\n",
    "\n"
   ]
  },
  {
   "cell_type": "markdown",
   "id": "49785c2e",
   "metadata": {},
   "source": [
    "\n",
    "Question 5 C#\n",
    "b. Use function inside() from part a. to write an expression that tests whether \n",
    "the point (1,1) lies in both of the following rectangles: one with lower left \n",
    "corner (0.3, 0.5) and upper right corner (1.1, 0.7) and the other with lower \n",
    "left corner (0.5, 0.2) and upper right corner (1.1, 2)."
   ]
  },
  {
   "cell_type": "code",
   "execution_count": 65,
   "id": "d6905fa3",
   "metadata": {},
   "outputs": [
    {
     "name": "stdout",
     "output_type": "stream",
     "text": [
      "False\n",
      "True\n"
     ]
    }
   ],
   "source": [
    "public bool inside(double x, double y, double x1, double y1, double x2, double y2)\n",
    "{\n",
    "if (x >= x1 && x <= x2 && y >= y1 && y <= y2)\n",
    "{\n",
    " return true;\n",
    "}\n",
    "else\n",
    "{\n",
    "return false;\n",
    "}\n",
    "}\n",
    "Console.WriteLine(inside(1,1,0.3,0.5,1.1,0.7));\n",
    "Console.WriteLine(inside(1,1,0.5,0.2,1.1,2));\n"
   ]
  },
  {
   "cell_type": "code",
   "execution_count": null,
   "id": "6800b924",
   "metadata": {},
   "outputs": [],
   "source": []
  }
 ],
 "metadata": {
  "kernelspec": {
   "display_name": ".NET (C#)",
   "language": "C#",
   "name": ".net-csharp"
  },
  "language_info": {
   "file_extension": ".cs",
   "mimetype": "text/x-csharp",
   "name": "C#",
   "pygments_lexer": "csharp",
   "version": "8.0"
  }
 },
 "nbformat": 4,
 "nbformat_minor": 5
}
