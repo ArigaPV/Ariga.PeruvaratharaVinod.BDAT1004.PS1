{
 "cells": [
  {
   "cell_type": "markdown",
   "id": "e7aa6a7f",
   "metadata": {},
   "source": [
    "Question 6 Python\n",
    "16. You can turn a word into pig-Latin using the following two rules (simplified):\n",
    "• If the word starts with a consonant, move that letter to the end and append \n",
    "'ay'. For example, 'happy' becomes 'appyhay' and 'pencil' becomes 'encilpay'.\n",
    "• If the word starts with a vowel, simply append 'way' to the end of the word. \n",
    "For example, 'enter' becomes 'enterway' and 'other' becomes 'otherway' . For \n",
    "our purposes, there are 5 vowels: a, e, i, o, u (so we count y as a consonant).\n",
    "Write a function pig() that takes a word (i.e., a string) as input and returns its pig\u0002Latin form. Your function should still work if the input word contains upper case \n",
    "characters. Your output should always be lower case however. \n",
    ">>> pig('happy')\n",
    "'appyhay'\n",
    ">>> pig('Enter')\n",
    "'enterway'"
   ]
  },
  {
   "cell_type": "code",
   "execution_count": 20,
   "id": "8d095dc6",
   "metadata": {},
   "outputs": [
    {
     "name": "stdout",
     "output_type": "stream",
     "text": [
      "appyhay\n",
      "enterway\n"
     ]
    }
   ],
   "source": [
    "def pig(word):\n",
    "    word = word.lower()\n",
    "    if word[0] in ['a', 'e', 'i', 'o', 'u']:\n",
    "        resultword = word + 'way'\n",
    "        print(resultword)\n",
    "    else:\n",
    "        appendStr = word[0]+\"ay\"\n",
    "        resStr = word[1:]+appendStr\n",
    "        print(resStr)\n",
    "        \n",
    "pig(\"happy\")\n",
    "pig(\"enter\")"
   ]
  },
  {
   "cell_type": "markdown",
   "id": "b189ef0b",
   "metadata": {},
   "source": [
    "Question 7 Python\n",
    "File bloodtype1.txt records blood-types of patients (A, B, AB, O or OO) at a clinic. \n",
    "Write a function bldcount() that reads the file with name name and reports (i.e., \n",
    "prints) how many patients there are in each bloodtype.\n",
    ">>> bldcount('bloodtype.txt')\n",
    "There are 10 patients of blood type A.\n",
    "There is one patient of blood type B.\n",
    "There are 10 patients of blood type AB.\n",
    "There are 12 patients of blood type O.\n",
    "There are no patients of blood type OO."
   ]
  },
  {
   "cell_type": "code",
   "execution_count": 21,
   "id": "a01fb36c",
   "metadata": {},
   "outputs": [
    {
     "name": "stdout",
     "output_type": "stream",
     "text": [
      "There are 15 patients with blood group A\n",
      "There are 1 patients with blood group B\n",
      "There are 13 patients with blood group AB\n",
      "There are 15 patients with blood group O\n",
      "There are 0 patients with blood group OO\n"
     ]
    }
   ],
   "source": [
    "def bldcount(filename):\n",
    "    f = open(filename, \"r\")\n",
    "    get_data = f.read()\n",
    "    get_count = 0\n",
    "    split_array = get_data.split()\n",
    "    base_data = ['A','B','AB','O','OO']\n",
    "    for x in base_data:\n",
    "        get_count = split_array.count(x)\n",
    "        print(\"There are {0} patients with blood group {1}\".format(get_count,x))\n",
    "bldcount(\"bloodtype1.txt\")"
   ]
  },
  {
   "cell_type": "markdown",
   "id": "5bce8039",
   "metadata": {},
   "source": [
    "Question 8 Python\n",
    "Write a function curconv() that takes as input:\n",
    "1. a currency represented using a string (e.g., 'JPY' for the Japanese Yen or \n",
    "'EUR' for the Euro)\n",
    "2. an amount\n",
    "and then converts and returns the amount in US dollars.\n",
    ">>> curconv('EUR', 100)\n",
    "122.96544\n",
    ">>> curconv('JPY', 100)\n",
    "1.241401\n",
    "The currency rates you will need are stored in file currencies.txt:\n",
    "AUD 1.0345157 Australian Dollar\n",
    "CHF 1.0237414 Swiss Franc\n",
    "CNY 0.1550176 Chinese Yuan\n",
    " BDAT 1004 – Data Programming \n",
    "Page 5 of 6\n",
    "F2021\n",
    "BDAT 1004 Computer Studies\n",
    "DKK 0.1651442 Danish Krone\n",
    "EUR 1.2296544 Euro\n",
    "GBP 1.5550989 British Pound\n",
    "HKD 0.1270207 Hong Kong Dollar\n",
    "INR 0.0177643 Indian Rupee\n",
    "JPY 0.01241401 Japanese Yen\n",
    "MXN 0.0751848 Mexican Peso\n",
    "MYR 0.3145411 Malaysian Ringgit\n",
    "NOK 0.1677063 Norwegian Krone\n",
    "NZD 0.8003591 New Zealand Dollar\n",
    "PHP 0.0233234 Philippine Peso\n",
    "SEK 0.148269 Swedish Krona\n",
    "SGD 0.788871 Singapore Dollar\n",
    "THB 0.0313789 Thai Baht"
   ]
  },
  {
   "cell_type": "code",
   "execution_count": 22,
   "id": "48a216e2",
   "metadata": {},
   "outputs": [
    {
     "name": "stdout",
     "output_type": "stream",
     "text": [
      "122.96544\n",
      "1.241401\n"
     ]
    }
   ],
   "source": [
    "def curconv(currency, amount):\n",
    "\n",
    "        with open('currencies.txt', 'r') as file:\n",
    "        \n",
    "            currencyrates = {}\n",
    "            for line in file:\n",
    "                parts = line.split()\n",
    "                if len(parts) >= 2:\n",
    "                    code = parts[0]\n",
    "                    rate = float(parts[1])\n",
    "                    currencyrates[code] = rate\n",
    "\n",
    "            \n",
    "            if currency in currencyrates:\n",
    "                usd_amount = amount * currencyrates[currency]\n",
    "                return usd_amount\n",
    "           \n",
    "\n",
    "resulteur = curconv('EUR', 100)\n",
    "resultjapan = curconv('JPY', 100)\n",
    "\n",
    "print(resulteur)  \n",
    "print(resultjapan)\n"
   ]
  },
  {
   "cell_type": "markdown",
   "id": "c445f4e7",
   "metadata": {},
   "source": [
    "Question 9 Python\n",
    "Each of the following will cause an exception (an error). Identify what type of \n",
    "exception each will cause.\n",
    "Trying to add incompatible variables, as in \n",
    "adding 6 + ‘a’\n",
    "Referring to the 12th item of a list that has only 10 \n",
    "items\n",
    "Using a value that is out of range for a function’s \n",
    "input, such as calling math.sqrt(-1.0)\n",
    "Using an undeclared variable, such as print(x)\n",
    "when x has not been defined \n",
    "Trying to open a file that does not exist, such as \n",
    "mistyping the file name or looking in the wrong \n",
    "directory."
   ]
  },
  {
   "cell_type": "code",
   "execution_count": 27,
   "id": "799d172e",
   "metadata": {},
   "outputs": [
    {
     "name": "stdout",
     "output_type": "stream",
     "text": [
      " TypeError: unsupported operand type(s) for +: 'int' and 'str'\n",
      " IndexError: list index out of range\n",
      " ValueError: math domain error\n",
      " NameError: name 'x' is not defined\n",
      "FileNotFoundError: [Errno 2] No such file or directory: 'non_existent_file.txt'\n"
     ]
    }
   ],
   "source": [
    "try:\n",
    "    result = 100 + 'a'\n",
    "except TypeError as e:\n",
    "    print(f\" {type(e).__name__}: {e}\")\n",
    "try:\n",
    "    my_list = [1, 2, 3, 4, 5, 6, 7, 8, 9, 10]\n",
    "    item = my_list[11]\n",
    "except IndexError as e:\n",
    "    print(f\" {type(e).__name__}: {e}\")\n",
    "try:\n",
    "    import math\n",
    "    result = math.sqrt(-1.0)\n",
    "except ValueError as e:\n",
    "    print(f\" {type(e).__name__}: {e}\")\n",
    "try:    \n",
    "    result = print(x)\n",
    "except NameError as e:\n",
    "    print(f\" {type(e).__name__}: {e}\")\n",
    "try:\n",
    "    with open('non_existent_file.txt', 'r') as file:\n",
    "        content = file.read()\n",
    "except FileNotFoundError as e:\n",
    "    print(f\"FileNotFoundError: {e}\")\n",
    "\n",
    "\n",
    "\n"
   ]
  },
  {
   "cell_type": "markdown",
   "id": "1dec3ae5",
   "metadata": {},
   "source": [
    "\n",
    "Question 10 Python\n",
    "Encryption is the process of hiding the meaning of a text by substituting letters in the \n",
    "message with other letters, according to some system. If the process is successful, no \n",
    "one but the intended recipient can understand the encrypted message. Cryptanalysis\n",
    "refers to attempts to undo the encryption, even if some details of the encryption are \n",
    "unknown (for example, if an encrypted message has been intercepted). The first step \n",
    "of cryptanalysis is often to build up a table of letter frequencies in the encrypted text. \n",
    "Assume that the string letters is already defined as \n",
    "'abcdefghijklmnopqrstuvwxyz'. Write a function called frequencies()\n",
    "that takes a string as its only parameter, and returns a list of integers, showing the \n",
    "number of times each character appears in the text. Your function may ignore any \n",
    "characters that are not in letters. \n",
    ">>> frequencies('The quick red fox got bored and went home.')\n",
    "[1, 1, 1, 3, 5, 1, 1, 2, 1, 0, 1, 0, 1, 2, 4, 0, 1, 2, 0, 2, \n",
    "1, 0, 1, 1, 0, 0]\n",
    ">>> frequencies('apple')"
   ]
  },
  {
   "cell_type": "code",
   "execution_count": 24,
   "id": "d91fff93",
   "metadata": {},
   "outputs": [
    {
     "name": "stdout",
     "output_type": "stream",
     "text": [
      "[1, 1, 1, 3, 5, 1, 1, 2, 1, 0, 1, 0, 1, 2, 4, 0, 1, 2, 0, 3, 1, 0, 1, 1, 0, 0]\n"
     ]
    }
   ],
   "source": [
    "def frequencies(text):\n",
    "    \n",
    "    letters = 'abcdefghijklmnopqrstuvwxyz'\n",
    "\n",
    "    \n",
    "    frequency_list = [0] * len(letters)\n",
    "\n",
    "    \n",
    "    text = text.lower()\n",
    "\n",
    "\n",
    "    for char in text:\n",
    "        \n",
    "        if char in letters:\n",
    "            \n",
    "            index = letters.index(char)\n",
    "            frequency_list[index] += 1\n",
    "\n",
    "    return frequency_list\n",
    "\n",
    "\n",
    "result = frequencies('The quick red fox got bored and went home.')\n",
    "print(result)\n",
    "\n"
   ]
  },
  {
   "cell_type": "code",
   "execution_count": null,
   "id": "cb1361b4",
   "metadata": {},
   "outputs": [],
   "source": []
  }
 ],
 "metadata": {
  "kernelspec": {
   "display_name": "Python 3 (ipykernel)",
   "language": "python",
   "name": "python3"
  },
  "language_info": {
   "codemirror_mode": {
    "name": "ipython",
    "version": 3
   },
   "file_extension": ".py",
   "mimetype": "text/x-python",
   "name": "python",
   "nbconvert_exporter": "python",
   "pygments_lexer": "ipython3",
   "version": "3.11.4"
  }
 },
 "nbformat": 4,
 "nbformat_minor": 5
}
